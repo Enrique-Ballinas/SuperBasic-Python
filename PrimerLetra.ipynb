{
 "cells": [
  {
   "cell_type": "code",
   "execution_count": 5,
   "id": "296f2094",
   "metadata": {},
   "outputs": [
    {
     "name": "stdout",
     "output_type": "stream",
     "text": [
      "Ingresa una oracion: UNIVERSAL SERIAL BUS\n",
      "UNIVERSAL SERIAL BUS\n"
     ]
    }
   ],
   "source": [
    "s = input(\"Ingresa una oracion: \")\n",
    "print(s)"
   ]
  },
  {
   "cell_type": "code",
   "execution_count": 6,
   "id": "e4a60b8f",
   "metadata": {},
   "outputs": [
    {
     "name": "stdout",
     "output_type": "stream",
     "text": [
      "USB\n"
     ]
    }
   ],
   "source": [
    "palabra = ''\n",
    "for i in range(len(s)):\n",
    "    if i == 0:\n",
    "        palabra += s[i]\n",
    "    elif s[i] == \" \":\n",
    "        palabra += s[i+1]\n",
    "\n",
    "print(palabra)"
   ]
  }
 ],
 "metadata": {
  "kernelspec": {
   "display_name": "Python 3 (ipykernel)",
   "language": "python",
   "name": "python3"
  },
  "language_info": {
   "codemirror_mode": {
    "name": "ipython",
    "version": 3
   },
   "file_extension": ".py",
   "mimetype": "text/x-python",
   "name": "python",
   "nbconvert_exporter": "python",
   "pygments_lexer": "ipython3",
   "version": "3.9.16"
  }
 },
 "nbformat": 4,
 "nbformat_minor": 5
}
