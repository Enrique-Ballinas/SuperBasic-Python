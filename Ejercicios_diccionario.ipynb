{
 "cells": [
  {
   "cell_type": "code",
   "execution_count": 1,
   "id": "05ede59f",
   "metadata": {},
   "outputs": [
    {
     "name": "stdout",
     "output_type": "stream",
     "text": [
      "Que fruta desea comprar: Manzana\n",
      "Cuantos kilos desea comprar: 2\n",
      "El precio total es:  51.96\n"
     ]
    }
   ],
   "source": [
    "# Escribir un programa que guarde en un diccionario los precios de las frutas de la tabla, \n",
    "# pregunte al usuario por una fruta, un número de kilos y muestre por pantalla el precio de ese número de kilos de fruta. \n",
    "# Si la fruta no está en el diccionario debe mostrar un mensaje informando de ello.\n",
    "\n",
    "Frutas = {\"Platano\":14.56, \"Manzana\":25.98, \"Pera\":22.34, \"Naranja\":27.83}\n",
    "fruta_pedido = input(\"Que fruta desea comprar: \")\n",
    "bandera = 0 # variable que determina si existe o no la fruta\n",
    "\n",
    "for i in Frutas:\n",
    "    if i == fruta_pedido:\n",
    "        bandera = 1 \n",
    "        precio_fruta = float(Frutas[fruta_pedido])\n",
    "        kilos = float(input(\"Cuantos kilos desea comprar: \"))\n",
    "        print(\"El precio total es: \", (kilos*precio_fruta))\n",
    "\n",
    "if bandera == 0:\n",
    "    print(\"Esa fruta ya esta agotada\")"
   ]
  },
  {
   "cell_type": "code",
   "execution_count": null,
   "id": "f73593f6",
   "metadata": {},
   "outputs": [],
   "source": [
    "Frutas = {\"Platano\":14.56, \"Manzana\":25.98, \"Pera\":22.34, \"Naranja\":27.83}\n",
    "fruta_pedido = input(\"Que fruta desea comprar: \")\n"
   ]
  }
 ],
 "metadata": {
  "kernelspec": {
   "display_name": "Python 3 (ipykernel)",
   "language": "python",
   "name": "python3"
  },
  "language_info": {
   "codemirror_mode": {
    "name": "ipython",
    "version": 3
   },
   "file_extension": ".py",
   "mimetype": "text/x-python",
   "name": "python",
   "nbconvert_exporter": "python",
   "pygments_lexer": "ipython3",
   "version": "3.9.16"
  }
 },
 "nbformat": 4,
 "nbformat_minor": 5
}
