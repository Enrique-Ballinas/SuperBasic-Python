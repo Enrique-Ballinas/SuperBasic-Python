{
 "cells": [
  {
   "cell_type": "code",
   "execution_count": 1,
   "id": "4205a91a",
   "metadata": {},
   "outputs": [
    {
     "name": "stdout",
     "output_type": "stream",
     "text": [
      "(1, 'Hola', 3.14, 'Bienvenido')\n"
     ]
    }
   ],
   "source": [
    "tupla = (1, \"Hola\", 3.14, 'Bienvenido')\n",
    "print(tupla)"
   ]
  },
  {
   "cell_type": "code",
   "execution_count": 2,
   "id": "d1542b2d",
   "metadata": {},
   "outputs": [
    {
     "ename": "TypeError",
     "evalue": "'tuple' object does not support item assignment",
     "output_type": "error",
     "traceback": [
      "\u001b[1;31m---------------------------------------------------------------------------\u001b[0m",
      "\u001b[1;31mTypeError\u001b[0m                                 Traceback (most recent call last)",
      "Cell \u001b[1;32mIn[2], line 1\u001b[0m\n\u001b[1;32m----> 1\u001b[0m tupla[\u001b[38;5;241m0\u001b[39m] \u001b[38;5;241m=\u001b[39m \u001b[38;5;241m5.25\u001b[39m\n\u001b[0;32m      2\u001b[0m \u001b[38;5;28mprint\u001b[39m(tupla)\n",
      "\u001b[1;31mTypeError\u001b[0m: 'tuple' object does not support item assignment"
     ]
    }
   ],
   "source": [
    "tupla[0] = 5.25\n",
    "print(tupla)"
   ]
  },
  {
   "cell_type": "code",
   "execution_count": 3,
   "id": "1f68162b",
   "metadata": {},
   "outputs": [
    {
     "name": "stdout",
     "output_type": "stream",
     "text": [
      "(21, 'Febrero', 2023)\n",
      "21\n",
      "Febrero\n",
      "2023\n"
     ]
    }
   ],
   "source": [
    "Fecha = (21, 'Febrero', 2023)\n",
    "print(Fecha)\n",
    "print(Fecha[0])\n",
    "print(Fecha[1])\n",
    "print(Fecha[2])"
   ]
  },
  {
   "cell_type": "code",
   "execution_count": 4,
   "id": "b8945f0d",
   "metadata": {},
   "outputs": [
    {
     "name": "stdout",
     "output_type": "stream",
     "text": [
      "3\n"
     ]
    }
   ],
   "source": [
    "Fecha = (21, 'Febrero', 2023)\n",
    "print(len(Fecha))"
   ]
  },
  {
   "cell_type": "code",
   "execution_count": 5,
   "id": "0e4a51e6",
   "metadata": {},
   "outputs": [
    {
     "name": "stdout",
     "output_type": "stream",
     "text": [
      "('Adios', 'Nombre', 2.45, 'Hola', 45.6)\n"
     ]
    }
   ],
   "source": [
    "a = 'Adios'\n",
    "b = 'Nombre'\n",
    "c = 2.45\n",
    "d = 'Hola'\n",
    "e = 45.6\n",
    "f = a, b, c, d, e\n",
    "print(f)"
   ]
  },
  {
   "cell_type": "code",
   "execution_count": 7,
   "id": "2b512af1",
   "metadata": {},
   "outputs": [
    {
     "name": "stdout",
     "output_type": "stream",
     "text": [
      "('Falso', 67, 'Error', 80.4, 5.3)\n",
      "Falso\n",
      "67\n",
      "Error\n",
      "80.4\n",
      "5.3\n"
     ]
    }
   ],
   "source": [
    "tupla2 = ('Falso', 67, 'Error', 80.4, 5.3)\n",
    "print(tupla2)\n",
    "a, b, c, d, e = tupla2\n",
    "print(a)\n",
    "print(b)\n",
    "print(c)\n",
    "print(d)\n",
    "print(e)"
   ]
  },
  {
   "cell_type": "code",
   "execution_count": 10,
   "id": "f2491d19",
   "metadata": {},
   "outputs": [
    {
     "name": "stdout",
     "output_type": "stream",
     "text": [
      "(1, 'Hola', 3.14, 'Bienvenido', 'Falso', 67, 'Error', 80.4, 5.3)\n",
      "9\n",
      "((1, 'Hola', 3.14, 'Bienvenido'), ('Falso', 67, 'Error', 80.4, 5.3))\n",
      "2\n"
     ]
    }
   ],
   "source": [
    "tupla = (1, \"Hola\", 3.14, 'Bienvenido')\n",
    "tupla2 = ('Falso', 67, 'Error', 80.4, 5.3)\n",
    "tupla3 = tupla + tupla2\n",
    "print(tupla3)\n",
    "print(len(tupla3))\n",
    "tupla3 = tupla, tupla2\n",
    "print(tupla3)\n",
    "print(len(tupla3))"
   ]
  },
  {
   "cell_type": "code",
   "execution_count": 11,
   "id": "6e3f94bd",
   "metadata": {},
   "outputs": [
    {
     "data": {
      "text/plain": [
       "('Falso', 67, 'Error')"
      ]
     },
     "execution_count": 11,
     "metadata": {},
     "output_type": "execute_result"
    }
   ],
   "source": [
    "tupla2[:3]"
   ]
  },
  {
   "cell_type": "code",
   "execution_count": null,
   "id": "89c268fc",
   "metadata": {},
   "outputs": [],
   "source": []
  }
 ],
 "metadata": {
  "kernelspec": {
   "display_name": "Python 3 (ipykernel)",
   "language": "python",
   "name": "python3"
  },
  "language_info": {
   "codemirror_mode": {
    "name": "ipython",
    "version": 3
   },
   "file_extension": ".py",
   "mimetype": "text/x-python",
   "name": "python",
   "nbconvert_exporter": "python",
   "pygments_lexer": "ipython3",
   "version": "3.9.16"
  }
 },
 "nbformat": 4,
 "nbformat_minor": 5
}
