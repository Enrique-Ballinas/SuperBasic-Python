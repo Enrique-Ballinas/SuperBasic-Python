{
 "cells": [
  {
   "cell_type": "code",
   "execution_count": 5,
   "id": "3067c873",
   "metadata": {},
   "outputs": [
    {
     "name": "stdout",
     "output_type": "stream",
     "text": [
      "Ingrese una secuencia de numeros: 12234\n",
      "12234\n"
     ]
    }
   ],
   "source": [
    "N = input(\"Ingrese una secuencia de numeros: \")\n",
    "print(N)"
   ]
  },
  {
   "cell_type": "code",
   "execution_count": 6,
   "id": "e5adf039",
   "metadata": {},
   "outputs": [
    {
     "name": "stdout",
     "output_type": "stream",
     "text": [
      "122.34\n"
     ]
    }
   ],
   "source": [
    "secuencia = ''\n",
    "for i in range(len(N)):\n",
    "    if (i+1) % 3 == 0:\n",
    "        secuencia = secuencia + N[i] + '.' \n",
    "    else:\n",
    "        secuencia += N[i]\n",
    "\n",
    "print(secuencia)"
   ]
  }
 ],
 "metadata": {
  "kernelspec": {
   "display_name": "Python 3 (ipykernel)",
   "language": "python",
   "name": "python3"
  },
  "language_info": {
   "codemirror_mode": {
    "name": "ipython",
    "version": 3
   },
   "file_extension": ".py",
   "mimetype": "text/x-python",
   "name": "python",
   "nbconvert_exporter": "python",
   "pygments_lexer": "ipython3",
   "version": "3.9.16"
  }
 },
 "nbformat": 4,
 "nbformat_minor": 5
}
