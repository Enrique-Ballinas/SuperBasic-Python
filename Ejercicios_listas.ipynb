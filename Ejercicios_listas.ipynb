{
 "cells": [
  {
   "cell_type": "code",
   "execution_count": null,
   "id": "c4337933",
   "metadata": {},
   "outputs": [],
   "source": [
    "#Crea una lista con los meses del año, pide números al usuario, si el numero esta entre 1 y la longitud máxima de la lista, \n",
    "# muestra el contenido de esa posición sino muestra un mensaje de error. \n",
    "# El programa termina cuando el usuario introduce un cero.\n",
    "\n",
    "Meses = ['Enero','Febrero', 'Marzo', 'Abril', 'Mayo', 'Junio', 'Julio', 'Agosto', \n",
    "         'Septiembre', 'Octubre', 'Noviembre', 'Diciembre']\n",
    "indice = 9999 # Para que no esquive el while\n",
    "\n",
    "while indice != 0:\n",
    "    indice = input(\"Ingrese un numero, cero para finalizar: \")\n",
    "    indice = int(indice)\n",
    "\n",
    "    if indice > 0 and indice <= len(Meses):\n",
    "        print(\"El mes seleccionado es: \", Meses[indice-1])\n",
    "    elif indice == 0:\n",
    "        print(\"Hasta pronto\")\n",
    "    else:\n",
    "        print(\"Error... Ese mes no existe, intente nuevamente\")"
   ]
  },
  {
   "cell_type": "code",
   "execution_count": null,
   "id": "938867a1",
   "metadata": {},
   "outputs": [],
   "source": [
    "# Pide un numero por teclado y guarda en una lista su tabla de multiplicar hasta el 10. \n",
    "# Por ejemplo, si pide el 5 la lista tendrá: 5,10,15,20,25,30,35,40,45,50\n",
    "\n",
    "Tabla = []\n",
    "\n",
    "num = input(\"Ingrese un numero: \")\n",
    "num = int(num)\n",
    "for i in range(1,11):\n",
    "    Tabla.append(num*i)\n",
    "    \n",
    "print(Tabla)"
   ]
  },
  {
   "cell_type": "code",
   "execution_count": 7,
   "id": "4203f590",
   "metadata": {},
   "outputs": [
    {
     "name": "stdout",
     "output_type": "stream",
     "text": [
      "Ingrese un numero 22\n",
      "Ingrese un numero 43\n",
      "Ingrese un numero 1\n",
      "Ingrese un numero 23\n",
      "Ingrese un numero 87\n",
      "Ingrese un numero 0\n",
      "[22, 43, 1, 23, 87]\n",
      "Numero de menor a mayor\n",
      "[1, 22, 23, 43, 87]\n"
     ]
    }
   ],
   "source": [
    "#  Pide números y mételos en una lista, cuando el usuario meta un 0 ya dejaremos de insertar. \n",
    "# Por último, muestra los números ordenados de menor a mayor, sin incluir el cero.\n",
    "\n",
    "lista = []\n",
    "num = 9999 # para que no esquive al while\n",
    "\n",
    "while num != 0:\n",
    "    num = input(\"Ingrese un numero \")\n",
    "    num = int(num)\n",
    "    if num != 0:\n",
    "        lista.append(num)\n",
    "\n",
    "print(lista)    \n",
    "print(\"Numero de menor a mayor\")\n",
    "lista.sort()\n",
    "print(lista)"
   ]
  },
  {
   "cell_type": "code",
   "execution_count": null,
   "id": "062eecf1",
   "metadata": {},
   "outputs": [],
   "source": []
  }
 ],
 "metadata": {
  "kernelspec": {
   "display_name": "Python 3 (ipykernel)",
   "language": "python",
   "name": "python3"
  },
  "language_info": {
   "codemirror_mode": {
    "name": "ipython",
    "version": 3
   },
   "file_extension": ".py",
   "mimetype": "text/x-python",
   "name": "python",
   "nbconvert_exporter": "python",
   "pygments_lexer": "ipython3",
   "version": "3.9.16"
  }
 },
 "nbformat": 4,
 "nbformat_minor": 5
}
