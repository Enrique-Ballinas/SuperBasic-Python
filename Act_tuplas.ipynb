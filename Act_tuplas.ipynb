{
 "cells": [
  {
   "cell_type": "code",
   "execution_count": 2,
   "id": "1964d7f7",
   "metadata": {},
   "outputs": [
    {
     "name": "stdout",
     "output_type": "stream",
     "text": [
      "Ingrese el dia: 29 \n",
      "Ingrese el mes: febrero\n",
      "Ingrese el año: 2021\n",
      "Fecha actual:  (29, 'febrero', 2021)\n",
      "ERROR\n",
      "Fecha siguiente:  (29, 'febrero', 2021)\n"
     ]
    }
   ],
   "source": [
    "# Escribir un programa que dada una fecha de la siguiente forma (Día, Mes, Año), \n",
    "# donde día y año son números enteros, y mes es texto de la forma “Ene”, “Feb”, …, “Dic”. \n",
    "# Calcule el día siguiente en el mismo formato.\n",
    "\n",
    "dia = int(input(\"Ingrese el dia: \"))\n",
    "mes = input(\"Ingrese el mes: \")\n",
    "year = int(input(\"Ingrese el año: \"))\n",
    "\n",
    "fecha = dia, mes, year # esta es mi tupla\n",
    "print(\"Fecha actual: \", fecha)\n",
    "\n",
    "if (dia == 31 and mes == 'enero'):\n",
    "    dia = 1\n",
    "    mes = 'febrero'\n",
    "elif (dia == 28 and mes == 'febrero'):\n",
    "    dia = 1\n",
    "    mes = 'marzo'\n",
    "elif (dia == 31 and mes == 'marzo'):\n",
    "    dia = 1\n",
    "    mes = 'abril'\n",
    "elif (dia == 30 and mes == 'abril'):\n",
    "    dia = 1\n",
    "    mes = 'mayo'\n",
    "elif (dia == 31 and mes == 'mayo'):\n",
    "    dia = 1\n",
    "    mes = 'junio'\n",
    "elif (dia == 30 and mes == 'junio'):\n",
    "    dia = 1\n",
    "    mes = 'julio'\n",
    "elif (dia == 31 and mes == 'julio'):\n",
    "    dia = 1\n",
    "    mes = 'agosto'\n",
    "elif (dia == 31 and mes == 'agosto'):\n",
    "    dia = 1\n",
    "    mes = 'septiembre'\n",
    "elif (dia == 30 and mes == 'septiembre'):\n",
    "    dia = 1\n",
    "    mes = 'octubre'\n",
    "elif (dia == 31 and mes == 'octubre'):\n",
    "    dia = 1\n",
    "    mes = 'noviembre'\n",
    "elif (dia == 30 and mes == 'noviembre'):\n",
    "    dia = 1\n",
    "    mes = 'diciembre'\n",
    "elif (dia == 31 and mes == 'diciembre'):\n",
    "    dia = 1\n",
    "    mes = 'enero'\n",
    "    year += 1\n",
    "else:\n",
    "    dia+=1\n",
    "\n",
    "fecha = dia, mes, year\n",
    "print(\"Fecha siguiente: \", fecha)"
   ]
  },
  {
   "cell_type": "code",
   "execution_count": null,
   "id": "a22f3ec4",
   "metadata": {},
   "outputs": [],
   "source": []
  }
 ],
 "metadata": {
  "kernelspec": {
   "display_name": "Python 3 (ipykernel)",
   "language": "python",
   "name": "python3"
  },
  "language_info": {
   "codemirror_mode": {
    "name": "ipython",
    "version": 3
   },
   "file_extension": ".py",
   "mimetype": "text/x-python",
   "name": "python",
   "nbconvert_exporter": "python",
   "pygments_lexer": "ipython3",
   "version": "3.9.16"
  }
 },
 "nbformat": 4,
 "nbformat_minor": 5
}
