{
 "cells": [
  {
   "cell_type": "code",
   "execution_count": 1,
   "id": "64e4f8e1",
   "metadata": {},
   "outputs": [],
   "source": [
    "#Escribir un programa que pregunte al usuario su nombre, edad, dirección y teléfono y lo guarde en un diccionario. \n",
    "# Después debe mostrar por pantalla el mensaje <nombre> tiene <edad> años, vive en <dirección> y su número de \n",
    "# teléfono es <teléfono>"
   ]
  },
  {
   "cell_type": "code",
   "execution_count": 2,
   "id": "e0363d92",
   "metadata": {},
   "outputs": [
    {
     "name": "stdout",
     "output_type": "stream",
     "text": [
      "Ingrese su nombre Enrique\n",
      "Ingrese su edad 29\n",
      "Ingrese su direccion Rancho escondido\n",
      "Ingrese su numero telefonico 266326326\n"
     ]
    }
   ],
   "source": [
    "nombre = input(\"Ingrese su nombre \")\n",
    "edad = input(\"Ingrese su edad \")\n",
    "direccion = input(\"Ingrese su direccion \")\n",
    "num_tel = input(\"Ingrese su numero telefonico \")"
   ]
  },
  {
   "cell_type": "code",
   "execution_count": 3,
   "id": "cfcbf936",
   "metadata": {},
   "outputs": [
    {
     "name": "stdout",
     "output_type": "stream",
     "text": [
      "{'Nombre': 'Enrique', 'Edad': '29', 'Direccion': 'Rancho escondido', 'Num-tel': '266326326'}\n"
     ]
    }
   ],
   "source": [
    "datos = {}\n",
    "datos[\"Nombre\"] = nombre\n",
    "datos[\"Edad\"] = edad\n",
    "datos[\"Direccion\"] = direccion\n",
    "datos[\"Num-tel\"] = num_tel\n",
    "\n",
    "print(datos)"
   ]
  },
  {
   "cell_type": "code",
   "execution_count": 5,
   "id": "56b8c748",
   "metadata": {},
   "outputs": [
    {
     "name": "stdout",
     "output_type": "stream",
     "text": [
      "Enrique tiene 29 años, vive en Rancho escondido y su numero de telefono es 266326326\n"
     ]
    }
   ],
   "source": [
    "print(datos[\"Nombre\"] + \" tiene \" + datos[\"Edad\"] + \" años, \" + \"vive en \" + datos[\"Direccion\"] + \" y su numero de \" + \n",
    "      \"telefono es \" + datos[\"Num-tel\"])"
   ]
  },
  {
   "cell_type": "code",
   "execution_count": null,
   "id": "4580ea4e",
   "metadata": {},
   "outputs": [],
   "source": [
    "  "
   ]
  }
 ],
 "metadata": {
  "kernelspec": {
   "display_name": "Python 3 (ipykernel)",
   "language": "python",
   "name": "python3"
  },
  "language_info": {
   "codemirror_mode": {
    "name": "ipython",
    "version": 3
   },
   "file_extension": ".py",
   "mimetype": "text/x-python",
   "name": "python",
   "nbconvert_exporter": "python",
   "pygments_lexer": "ipython3",
   "version": "3.9.16"
  }
 },
 "nbformat": 4,
 "nbformat_minor": 5
}
