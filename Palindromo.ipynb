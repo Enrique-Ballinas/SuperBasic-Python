{
 "cells": [
  {
   "cell_type": "code",
   "execution_count": 9,
   "id": "9f3d5917",
   "metadata": {},
   "outputs": [
    {
     "name": "stdout",
     "output_type": "stream",
     "text": [
      "Ingrese una palabra u oracion: anita lava la tina\n",
      "anita lava la tina\n"
     ]
    }
   ],
   "source": [
    "Palabra = input(\"Ingrese una palabra u oracion: \")\n",
    "print(Palabra)"
   ]
  },
  {
   "cell_type": "code",
   "execution_count": 10,
   "id": "0f57bfad",
   "metadata": {},
   "outputs": [
    {
     "name": "stdout",
     "output_type": "stream",
     "text": [
      "Si es un palindromo\n"
     ]
    }
   ],
   "source": [
    "# Elimino los espacios de la palabra original\n",
    "No_espacio = ''\n",
    "for i in range(len(Palabra)):\n",
    "    if Palabra[i] != ' ':\n",
    "        No_espacio += Palabra[i]\n",
    "    \n",
    "# Invierto la palabra sin espacios\n",
    "Pal_reves = ''\n",
    "for i in range(-1, (len(No_espacio)*-1)-1,-1):\n",
    "    Pal_reves += No_espacio[i] \n",
    "\n",
    "bandera = 0\n",
    "for i in range(len(No_espacio)):\n",
    "    if No_espacio[i] != Pal_reves[i]:\n",
    "        bandera = 1\n",
    "        break\n",
    "        \n",
    "if bandera == 1:\n",
    "    print(\"No es un palindromo\")\n",
    "else:\n",
    "    print(\"Si es un palindromo\")"
   ]
  },
  {
   "cell_type": "code",
   "execution_count": null,
   "id": "3d477cf2",
   "metadata": {},
   "outputs": [],
   "source": []
  }
 ],
 "metadata": {
  "kernelspec": {
   "display_name": "Python 3 (ipykernel)",
   "language": "python",
   "name": "python3"
  },
  "language_info": {
   "codemirror_mode": {
    "name": "ipython",
    "version": 3
   },
   "file_extension": ".py",
   "mimetype": "text/x-python",
   "name": "python",
   "nbconvert_exporter": "python",
   "pygments_lexer": "ipython3",
   "version": "3.9.16"
  }
 },
 "nbformat": 4,
 "nbformat_minor": 5
}
